{
  "nbformat": 4,
  "nbformat_minor": 0,
  "metadata": {
    "colab": {
      "provenance": []
    },
    "kernelspec": {
      "name": "python3",
      "display_name": "Python 3"
    },
    "language_info": {
      "name": "python"
    }
  },
  "cells": [
    {
      "cell_type": "code",
      "source": [
        "# Baixem do meu github\n",
        "!mkdir -p local_datasets\n",
        "!wget --quiet 'https://raw.githubusercontent.com/sauloafoliveira/cclw-mlm/master/local_datasets/__init__.py' -O 'local_datasets/__init__.py'\n",
        "!wget --quiet 'https://raw.githubusercontent.com/sauloafoliveira/cclw-mlm/master/local_datasets/datasets-7627-10826-banana.csv' -O 'local_datasets/datasets-7627-10826-banana.csv'\n",
        "!wget --quiet 'https://raw.githubusercontent.com/sauloafoliveira/cclw-mlm/master/local_datasets/rip.csv' -O 'local_datasets/rip.csv'\n",
        "\n",
        "\n",
        "# importem o código assim\n",
        "from local_datasets import load_banana, load_ripley, load_two_moon\n",
        "\n",
        "bunch = load_ripley()\n",
        "X, y = bunch.data, bunch.target\n",
        "print(X.shape, y.shape)"
      ],
      "metadata": {
        "colab": {
          "base_uri": "https://localhost:8080/"
        },
        "id": "nEyHlFFyYJx1",
        "outputId": "98a43f23-7550-4e30-d1af-b9f4221b05b9"
      },
      "execution_count": null,
      "outputs": [
        {
          "output_type": "stream",
          "name": "stdout",
          "text": [
            "(1249, 2) (1249,)\n"
          ]
        }
      ]
    },
    {
      "cell_type": "code",
      "source": [
        "import numpy as np"
      ],
      "metadata": {
        "id": "qq8T7Ky1YLSM"
      },
      "execution_count": null,
      "outputs": []
    },
    {
      "cell_type": "markdown",
      "source": [
        "# MLP COM GRADIENTE\n"
      ],
      "metadata": {
        "id": "4rMMWpfsD3IK"
      }
    },
    {
      "cell_type": "code",
      "source": [
        "def split_train_test(X,y,train_size):\n",
        "  msk = np.random.rand(X.shape[0]) < train_size\n",
        "  X_train = X[msk]\n",
        "  y_train = y[msk]\n",
        "  X_test = X[~msk]\n",
        "  y_test = y[~msk]\n",
        "  return X_train, y_train,X_test,y_test"
      ],
      "metadata": {
        "id": "zBh6S2woYNP8"
      },
      "execution_count": null,
      "outputs": []
    },
    {
      "cell_type": "code",
      "source": [
        "X_train, y_train, X_test, y_test = split_train_test(X,y,0.8)"
      ],
      "metadata": {
        "id": "M16QKC5NYPgy"
      },
      "execution_count": null,
      "outputs": []
    },
    {
      "cell_type": "code",
      "source": [
        "class NormPadronizacao:\n",
        "  def __init__(self):\n",
        "    self._colunas: dict = {}\n",
        "\n",
        "  def normalizar(self, X):\n",
        "    list_colunas_normalizadas = []\n",
        "    for coluna in range(X.shape[1]):\n",
        "      list_colunas_normalizadas.append((X[:,coluna] - self._colunas[f'media_{coluna}'])/self._colunas[f'desvio_padrao_{coluna}'])\n",
        "    return np.array(list_colunas_normalizadas).T\n",
        "\n",
        "  def treinar(self, X):\n",
        "    for coluna in range(X.shape[1]):\n",
        "      self._colunas[f'media_{coluna}'] = []\n",
        "      self._colunas[f'desvio_padrao_{coluna}'] = []\n",
        "      self._colunas[f'media_{coluna}'].append(np.mean(X[:,coluna]))\n",
        "      self._colunas[f'desvio_padrao_{coluna}'].append(np.std(X[:,coluna]))\n",
        "    print(self._colunas)"
      ],
      "metadata": {
        "id": "0mrklVdvYX9I"
      },
      "execution_count": null,
      "outputs": []
    },
    {
      "cell_type": "code",
      "source": [
        "Stdalizer = NormPadronizacao()\n",
        "Stdalizer.treinar(X_train)"
      ],
      "metadata": {
        "colab": {
          "base_uri": "https://localhost:8080/"
        },
        "id": "JhMtrA1XYVNV",
        "outputId": "5d82c72d-d32f-426f-c0e7-9296074dab42"
      },
      "execution_count": null,
      "outputs": [
        {
          "output_type": "stream",
          "name": "stdout",
          "text": [
            "{'media_0': [-0.06616085129235236], 'desvio_padrao_0': [0.4830945329697738], 'media_1': [0.4906998508693126], 'desvio_padrao_1': [0.26113278194371664]}\n"
          ]
        }
      ]
    },
    {
      "cell_type": "code",
      "source": [
        "X_train = Stdalizer.normalizar(X_train)\n",
        "X_test = Stdalizer.normalizar(X_test)"
      ],
      "metadata": {
        "id": "Or0jBBLwYnRT"
      },
      "execution_count": null,
      "outputs": []
    },
    {
      "cell_type": "code",
      "source": [
        "\n",
        "import numpy as np\n",
        "\n",
        "# funcao de custo e sua derivada\n",
        "def mse(y_true, y_pred):\n",
        "    return np.mean((y_true-y_pred)**2);\n",
        "\n",
        "def gradient(y_true, y_pred):\n",
        "    return 2*(y_pred-y_true)/y_true.size;\n",
        "\n"
      ],
      "metadata": {
        "id": "f6IXUQ8NTL7E"
      },
      "execution_count": null,
      "outputs": []
    },
    {
      "cell_type": "code",
      "source": [
        "from abc import ABC, abstractmethod\n",
        "class Layer(ABC):\n",
        "    \"\"\"Interface de uma camada a ser implementada.\"\"\"\n",
        "    def __init__(self):\n",
        "        self.input = None\n",
        "        self.output = None\n",
        "\n",
        "    @abstractmethod\n",
        "    def forward(self, input):\n",
        "        raise NotImplementedError\n",
        "\n",
        "    @abstractmethod\n",
        "    def backward(self, output_error, learning_rate):\n",
        "        raise NotImplementedError"
      ],
      "metadata": {
        "id": "EDwOjGW_Qx9k"
      },
      "execution_count": null,
      "outputs": []
    },
    {
      "cell_type": "code",
      "source": [
        "class LinearLayer(Layer):\n",
        "    def __init__(self, input_size, output_size):\n",
        "        self.weights = np.random.rand(input_size, output_size) - 0.5\n",
        "        self.bias = np.random.rand(1, output_size) - 0.5\n",
        "\n",
        "    def forward(self, input_data):\n",
        "        \"\"\"Esta função ira fazer o produto de matrizes e adicionar o vetor i\"\"\"\n",
        "        self.input = input_data\n",
        "        self.output = np.dot(self.input, self.weights) + self.bias\n",
        "        return self.output\n",
        "\n",
        "\n",
        "    def backward(self, output_error, learning_rate):\n",
        "        \"\"\"Esta função computa o gradiente e atualiza os pesos.\n",
        "\n",
        "        Args:\n",
        "            output_error : Erro já calculado com a derivada do MSE\n",
        "            learning_rate: Taxa de aprendizagem\n",
        "\n",
        "        Return:\n",
        "            Erro do input em relação aos pesos da camada.\n",
        "        \"\"\"\n",
        "\n",
        "        # Backtracking Line Search para encontrar o tamanho do passo\n",
        "        # t = self.backtracking_line_search(x, gamma, grad)\n",
        "        # x = x - t * grad\n",
        "        error = np.dot(output_error, self.weights.T)\n",
        "        weights_error = np.dot(self.input.T, output_error)\n",
        "        #\n",
        "        self.weights = self.weights - learning_rate * weights_error\n",
        "        self.bias = self.bias - learning_rate * output_error\n",
        "        return error\n",
        "\n"
      ],
      "metadata": {
        "id": "6XtB_6X7RHEM"
      },
      "execution_count": null,
      "outputs": []
    },
    {
      "cell_type": "code",
      "source": [
        "class SigmoidLayer(Layer):\n",
        "\n",
        "    def forward(self, input_data):\n",
        "        self.input = input_data\n",
        "        self.output = self.__sigmoid(self.input)\n",
        "        return self.output\n",
        "\n",
        "    def backward(self, output_error, learning_rate):\n",
        "        return self.__derivada_sigmoid(self.input) * output_error\n",
        "\n",
        "    def __sigmoid(self, u):\n",
        "        return 1/(1+np.exp(-u))\n",
        "\n",
        "    def __derivada_sigmoid(self, u):\n",
        "         local_sigmoid = self.__sigmoid(u)\n",
        "         return local_sigmoid * (1-local_sigmoid)"
      ],
      "metadata": {
        "id": "R-6xdrAnY-pZ"
      },
      "execution_count": null,
      "outputs": []
    },
    {
      "cell_type": "code",
      "source": [
        "from tqdm import tqdm\n",
        "from matplotlib import pyplot as plt\n",
        "from matplotlib.colors import ListedColormap\n",
        "class MLP:\n",
        "    def __init__(self):\n",
        "        self.layers = []\n",
        "        self.loss = []\n",
        "    def add(self, layer):\n",
        "        \"\"\"Adiciona uma camada linear ao meu 'Sequential' de Camadas.\"\"\"\n",
        "        self.layers.append(layer)\n",
        "\n",
        "    def predict(self, input_data):\n",
        "        \"\"\"Realiza a predição de um dado de entrada.\"\"\"\n",
        "        # sample dimension first\n",
        "        samples = len(input_data)\n",
        "        result = []\n",
        "\n",
        "        # run network over all samples\n",
        "        for i in range(samples):\n",
        "            # forward propagation\n",
        "            output = input_data[i]\n",
        "            for layer in self.layers:\n",
        "                output = layer.forward(output)\n",
        "            result.append(output)\n",
        "\n",
        "        return np.array(result)\n",
        "    def plot_loss_graph(self):\n",
        "        plt.plot(self.loss)\n",
        "        plt.savefig(\"loss_mlp_classic_two_moon\", dpi=300)\n",
        "        plt.show()\n",
        "\n",
        "    def plot_decision_regions(self, X, y, classifier, resolution=0.02):\n",
        "        # setando os marcadores para utilizarmos no grafico\n",
        "        markers = ('s', 'x', 'o', '^', 'v')\n",
        "        colors = ('red', 'blue', 'lightgreen', 'gray', 'cyan')\n",
        "        cmap = ListedColormap(colors[:len(np.unique(y))])\n",
        "\n",
        "        # plotando a superfície de decisão\n",
        "        x1_min, x1_max = X[:,  0].min() - 1, X[:, 0].max() + 1\n",
        "        x2_min, x2_max = X[:, 0].min() - 1, X[:, 0].max() + 1\n",
        "        xx1, xx2 = np.meshgrid(np.arange(x1_min, x1_max, resolution),\n",
        "        np.arange(x2_min, x2_max, resolution))\n",
        "        arr_to_be_predicted = np.array([xx1.ravel(), xx2.ravel()]).T\n",
        "        arr_to_be_predicted = arr_to_be_predicted.reshape(arr_to_be_predicted.shape[0], 1, arr_to_be_predicted.shape[1] )\n",
        "        Z = classifier.predict(arr_to_be_predicted)\n",
        "        Z = Z.reshape(Z.shape[0],Z.shape[2])\n",
        "\n",
        "        print(xx1.shape)\n",
        "        Z = Z[:,1].reshape(xx1.shape)\n",
        "        plt.contourf(xx1, xx2, Z, alpha=0.4, cmap=cmap)\n",
        "        plt.xlim(xx1.min(), xx1.max())\n",
        "        plt.ylim(xx2.min(), xx2.max())\n",
        "\n",
        "        # plotando as classes das amostras.\n",
        "        for idx, cl in enumerate(np.unique(y)):\n",
        "            plt.scatter(x=X[y == cl, 0], y=X[y == cl, 1],\n",
        "            alpha=0.8, c=cmap(idx),\n",
        "            marker=markers[idx], label=cl)\n",
        "        plt.savefig(\"decision_surface_mlp_classic_two_moon\", dpi=300)\n",
        "        plt.show()\n",
        "\n",
        "    def fit(self, x_train, y_train, epochs, learning_rate):\n",
        "        \"\"\"Treinamento\"\"\"\n",
        "        samples = len(x_train)\n",
        "\n",
        "        tqdm_bar = tqdm(range(epochs))\n",
        "        for i in tqdm_bar:\n",
        "            tqdm_bar.set_description(f\"Epoch {i}\")\n",
        "            err = 0\n",
        "            for j in range(samples): #Para cada amostra\n",
        "\n",
        "                output = x_train[j]\n",
        "                for layer in self.layers:\n",
        "                    output = layer.forward(output)\n",
        "\n",
        "\n",
        "                err += mse(y_train[j], output)\n",
        "\n",
        "                # calculando  o gradiente\n",
        "                error = gradient(y_train[j], output)\n",
        "\n",
        "                for layer in reversed(self.layers):\n",
        "                    # print(error.shape)\n",
        "                    error = layer.backward(error, learning_rate)\n",
        "\n",
        "            # calcula a média de erro de todas as amostras\n",
        "            err /= samples\n",
        "            self.loss.append(err)\n",
        "            tqdm_bar.set_postfix(loss=err)\n"
      ],
      "metadata": {
        "id": "t5zHyLSETYAH"
      },
      "execution_count": null,
      "outputs": []
    },
    {
      "cell_type": "code",
      "source": [
        "X_train = X_train.reshape(X_train.shape[0], 1, X_train.shape[1] )"
      ],
      "metadata": {
        "id": "uXr6Bg-aY32l"
      },
      "execution_count": null,
      "outputs": []
    },
    {
      "cell_type": "code",
      "source": [
        "net = MLP()\n",
        "net.add(LinearLayer(X_train.shape[2], 64))\n",
        "net.add(SigmoidLayer())\n",
        "net.add(LinearLayer(64,2))\n",
        "net.add(SigmoidLayer())\n",
        "\n",
        "net.fit(X_train, y_train, epochs=300, learning_rate=0.01)\n",
        "\n",
        "# test\n",
        "out = net.predict(X_test)\n",
        "net.plot_loss_graph()\n",
        "net.plot_decision_regions(X_test, y_test, classifier=net)\n"
      ],
      "metadata": {
        "colab": {
          "base_uri": "https://localhost:8080/",
          "height": 934
        },
        "id": "OMymOM8uY6nd",
        "outputId": "0f182420-29e2-44d1-a809-833ba0eb567b"
      },
      "execution_count": null,
      "outputs": [
        {
          "output_type": "stream",
          "name": "stderr",
          "text": [
            "Epoch 299: 100%|██████████| 300/300 [00:30<00:00,  9.68it/s, loss=0.0577]\n"
          ]
        },
        {
          "output_type": "display_data",
          "data": {
            "text/plain": [
              "<Figure size 640x480 with 1 Axes>"
            ],
            "image/png": "[encoded data removed]"
          },
          "metadata": {}
        },
        {
          "output_type": "stream",
          "name": "stdout",
          "text": [
            "(287, 287)\n"
          ]
        },
        {
          "output_type": "stream",
          "name": "stderr",
          "text": [
            "<ipython-input-309-3a4388273da3>:56: UserWarning: *c* argument looks like a single numeric RGB or RGBA sequence, which should be avoided as value-mapping will have precedence in case its length matches with *x* & *y*.  Please use the *color* keyword-argument or provide a 2D array with a single row if you intend to specify the same RGB or RGBA value for all points.\n",
            "  plt.scatter(x=X[y == cl, 0], y=X[y == cl, 1],\n"
          ]
        },
        {
          "output_type": "display_data",
          "data": {
            "text/plain": [
              "<Figure size 640x480 with 1 Axes>"
            ],
            "image/png": "[encoded data removed]"
          },
          "metadata": {}
        }
      ]
    },
    {
      "cell_type": "markdown",
      "source": [
        "# Metodo de newton\n"
      ],
      "metadata": {
        "id": "3O5BPlj4TYlo"
      }
    },
    {
      "cell_type": "code",
      "source": [
        "class LinearLayer(Layer):\n",
        "    def __init__(self, input_size, output_size):\n",
        "        self.weights = np.random.rand(input_size, output_size) - 0.5\n",
        "        self.bias = np.random.rand(1, output_size) - 0.5\n",
        "\n",
        "    def forward(self, input_data):\n",
        "        \"\"\"Esta função ira fazer o produto de matrizes e adicionar o vetor i\"\"\"\n",
        "        self.input = input_data\n",
        "        self.output = np.dot(self.input, self.weights) + self.bias\n",
        "        return self.output\n",
        "\n",
        "\n",
        "    def backward(self, output_error, learning_rate):\n",
        "        \"\"\"Esta função computa o gradiente e atualiza os pesos.\n",
        "\n",
        "        Args:\n",
        "            output_error : Erro já calculado com a derivada do MSE\n",
        "            learning_rate: Taxa de aprendizagem\n",
        "\n",
        "        Return:\n",
        "            Erro do input em relação aos pesos da camada.\n",
        "        \"\"\"\n",
        "\n",
        "        # Backtracking Line Search para encontrar o tamanho do passo\n",
        "        # t = self.backtracking_line_search(x, gamma, grad)\n",
        "        # x = x - t * grad\n",
        "        error = np.dot(output_error, self.weights.T)\n",
        "        weights_error = np.dot(self.input.T, output_error)\n",
        "        #\n",
        "        self.weights = self.weights + learning_rate * weights_error\n",
        "        self.bias = self.bias + learning_rate * output_error\n",
        "        return error\n",
        "\n"
      ],
      "metadata": {
        "id": "WN1bSniuU2pu"
      },
      "execution_count": null,
      "outputs": []
    },
    {
      "cell_type": "code",
      "source": [
        "class SigmoidLayer(Layer):\n",
        "\n",
        "    def forward(self, input_data):\n",
        "        self.input = input_data\n",
        "        self.output = self.__sigmoid(self.input)\n",
        "        return self.output\n",
        "\n",
        "    def backward(self, output_error, learning_rate):\n",
        "        return self.__derivada_sigmoid(self.input) * output_error\n",
        "\n",
        "    def __sigmoid(self, u):\n",
        "        return 1/(1+np.exp(-u))\n",
        "\n",
        "    def __derivada_sigmoid(self, u):\n",
        "         local_sigmoid = self.__sigmoid(u)\n",
        "         return local_sigmoid * (1-local_sigmoid)"
      ],
      "metadata": {
        "id": "gRd0aMKAUB22"
      },
      "execution_count": null,
      "outputs": []
    },
    {
      "cell_type": "code",
      "source": [
        "\n",
        "import numpy as np\n",
        "\n",
        "# funcao de custo e sua derivada\n",
        "def mse(y_true, y_pred):\n",
        "    return np.mean((y_true-y_pred)**2);\n",
        "\n",
        "def gradient(y_true, y_pred):\n",
        "    return 2*(y_pred-y_true)/y_true.size;\n",
        "\n",
        "def hessian(y_true):\n",
        "  N = y_true.size\n",
        "  return np.eye(N) * 2 / N"
      ],
      "metadata": {
        "id": "wP67xMkbNuPx"
      },
      "execution_count": null,
      "outputs": []
    },
    {
      "cell_type": "code",
      "source": [
        "# Backtracking Line Search\n",
        "def backtracking_line_search(y_true,y_pred, grad, alpha=0.01, beta=5e-3):\n",
        "    t = 1.0\n",
        "    new_grad = np.dot(grad, grad.T)\n",
        "    m2 = mse(y_true,y_pred)\n",
        "    # print(\"\\n\",new_grad[0])\n",
        "    # print(mse(y_true,  t * grad))\n",
        "    # print( mse(y_true,y_pred) - alpha * t * new_grad[0][0])\n",
        "    while mse(y_true,  t * grad) > mse(y_true,y_pred) - alpha * t * new_grad[0][0]:\n",
        "        t *= beta\n",
        "        break\n",
        "    return t\n"
      ],
      "metadata": {
        "id": "s9JHHMmsSjMb"
      },
      "execution_count": null,
      "outputs": []
    },
    {
      "cell_type": "code",
      "source": [
        "from tqdm import tqdm\n",
        "from matplotlib import pyplot as plt\n",
        "from matplotlib.colors import ListedColormap\n",
        "class MLP_newton:\n",
        "    def __init__(self):\n",
        "        self.layers = []\n",
        "        self.loss = []\n",
        "    def add(self, layer):\n",
        "        \"\"\"Adiciona uma camada linear ao meu 'Sequential' de Camadas.\"\"\"\n",
        "        self.layers.append(layer)\n",
        "\n",
        "    def predict(self, input_data):\n",
        "        \"\"\"Realiza a predição de um dado de entrada.\"\"\"\n",
        "        # sample dimension first\n",
        "        samples = len(input_data)\n",
        "        result = []\n",
        "\n",
        "        # run network over all samples\n",
        "        for i in range(samples):\n",
        "            # forward propagation\n",
        "            output = input_data[i]\n",
        "            for layer in self.layers:\n",
        "                output = layer.forward(output)\n",
        "            result.append(output)\n",
        "\n",
        "        return np.array(result)\n",
        "    def plot_loss_graph(self):\n",
        "        plt.plot(self.loss)\n",
        "        plt.savefig(\"loss_mlp_newton_two_moon\", dpi=300)\n",
        "        plt.show()\n",
        "\n",
        "    def plot_decision_regions(self, X, y, classifier, resolution=0.02):\n",
        "        # setando os marcadores para utilizarmos no grafico\n",
        "        markers = ('s', 'x', 'o', '^', 'v')\n",
        "        colors = ('red', 'blue', 'lightgreen', 'gray', 'cyan')\n",
        "        cmap = ListedColormap(colors[:len(np.unique(y))])\n",
        "\n",
        "        # plotando a superfície de decisão\n",
        "        x1_min, x1_max = X[:,  0].min() - 1, X[:, 0].max() + 1\n",
        "        x2_min, x2_max = X[:, 0].min() - 1, X[:, 0].max() + 1\n",
        "        xx1, xx2 = np.meshgrid(np.arange(x1_min, x1_max, resolution),\n",
        "        np.arange(x2_min, x2_max, resolution))\n",
        "        arr_to_be_predicted = np.array([xx1.ravel(), xx2.ravel()]).T\n",
        "        arr_to_be_predicted = arr_to_be_predicted.reshape(arr_to_be_predicted.shape[0], 1, arr_to_be_predicted.shape[1] )\n",
        "        Z = classifier.predict(arr_to_be_predicted)\n",
        "        Z = Z.reshape(Z.shape[0],Z.shape[2])\n",
        "\n",
        "        print(xx1.shape)\n",
        "        Z = Z[:,1].reshape(xx1.shape)\n",
        "        plt.contourf(xx1, xx2, Z, alpha=0.4, cmap=cmap)\n",
        "        plt.xlim(xx1.min(), xx1.max())\n",
        "        plt.ylim(xx2.min(), xx2.max())\n",
        "\n",
        "        # plotando as classes das amostras.\n",
        "        for idx, cl in enumerate(np.unique(y)):\n",
        "            plt.scatter(x=X[y == cl, 0], y=X[y == cl, 1],\n",
        "            alpha=0.8, c=cmap(idx),\n",
        "            marker=markers[idx], label=cl)\n",
        "        plt.savefig(\"decision_surface_mlp_newton_two_moon\", dpi=300)\n",
        "        plt.show()\n",
        "\n",
        "    def fit(self, x_train, y_train, epochs, learning_rate):\n",
        "        \"\"\"Treinamento\"\"\"\n",
        "        samples = len(x_train)\n",
        "\n",
        "        tqdm_bar = tqdm(range(epochs))\n",
        "        for i in tqdm_bar:\n",
        "            tqdm_bar.set_description(f\"Epoch {i}\")\n",
        "            err = 0\n",
        "            for j in range(samples): #Para cada amostra\n",
        "\n",
        "                output = x_train[j]\n",
        "                for layer in self.layers:\n",
        "                    output = layer.forward(output)\n",
        "\n",
        "\n",
        "                err += mse(y_train[j], output)\n",
        "\n",
        "                # calculando  o gradiente\n",
        "\n",
        "                grad =gradient(y_train[j], output)\n",
        "                #Calculando a hessiana\n",
        "                hessiana = hessian(y_train[j])\n",
        "                #calculando a inversa da hessiana\n",
        "                hessiana_inv = np.linalg.pinv(hessiana)\n",
        "\n",
        "                # Calculando a direção\n",
        "                direction = -hessiana_inv @ grad\n",
        "\n",
        "                error = direction\n",
        "                #calculando o tamanho do passo\n",
        "                t = backtracking_line_search(y_train[j], output, grad)\n",
        "\n",
        "                for layer in reversed(self.layers):\n",
        "\n",
        "                    error = layer.backward(-error, t)\n",
        "\n",
        "            # calcula a média de erro de todas as amostras\n",
        "            err /= samples\n",
        "            self.loss.append(err)\n",
        "            tqdm_bar.set_postfix(loss=err)\n"
      ],
      "metadata": {
        "id": "VoY22BbtDUXb"
      },
      "execution_count": null,
      "outputs": []
    },
    {
      "cell_type": "code",
      "source": [
        "net = MLP_newton()\n",
        "net.add(LinearLayer(X_train.shape[2], 64))\n",
        "net.add(SigmoidLayer())\n",
        "net.add(LinearLayer(64,2))\n",
        "net.add(SigmoidLayer())\n",
        "\n",
        "net.fit(X_train, y_train, epochs=300, learning_rate=0.01)\n",
        "\n",
        "# test\n",
        "out = net.predict(X_test)\n",
        "net.plot_loss_graph()\n",
        "net.plot_decision_regions(X_test, y_test, classifier=net)\n"
      ],
      "metadata": {
        "colab": {
          "base_uri": "https://localhost:8080/",
          "height": 934
        },
        "id": "_Y4MeyuzOop2",
        "outputId": "a8eecdc8-e517-493e-ef63-2fb17fac0a22"
      },
      "execution_count": null,
      "outputs": [
        {
          "output_type": "stream",
          "name": "stderr",
          "text": [
            "Epoch 299: 100%|██████████| 300/300 [01:15<00:00,  3.95it/s, loss=0.0837]\n"
          ]
        },
        {
          "output_type": "display_data",
          "data": {
            "text/plain": [
              "<Figure size 640x480 with 1 Axes>"
            ],
            "image/png": "[encoded data removed]"
          },
          "metadata": {}
        },
        {
          "output_type": "stream",
          "name": "stdout",
          "text": [
            "(287, 287)\n"
          ]
        },
        {
          "output_type": "stream",
          "name": "stderr",
          "text": [
            "<ipython-input-316-899ecc063a80>:56: UserWarning: *c* argument looks like a single numeric RGB or RGBA sequence, which should be avoided as value-mapping will have precedence in case its length matches with *x* & *y*.  Please use the *color* keyword-argument or provide a 2D array with a single row if you intend to specify the same RGB or RGBA value for all points.\n",
            "  plt.scatter(x=X[y == cl, 0], y=X[y == cl, 1],\n"
          ]
        },
        {
          "output_type": "display_data",
          "data": {
            "text/plain": [
              "<Figure size 640x480 with 1 Axes>"
            ],
            "image/png": "[encoded data removed]"
          },
          "metadata": {}
        }
      ]
    },
    {
      "cell_type": "code",
      "source": [],
      "metadata": {
        "id": "fc55ggBOtda5"
      },
      "execution_count": null,
      "outputs": []
    },
    {
      "cell_type": "markdown",
      "source": [
        "# REGRESSÃO\n"
      ],
      "metadata": {
        "id": "pIM9X_rNtR8w"
      }
    },
    {
      "cell_type": "markdown",
      "source": [
        "Antes de testar a regressão, rode novamente a seção da MLP com gradiente\n"
      ],
      "metadata": {
        "id": "JeS5fiSwDuX5"
      }
    },
    {
      "cell_type": "code",
      "source": [
        "from sklearn.datasets import load_diabetes\n",
        "diabetes = load_diabetes()\n",
        "X, y = diabetes.data, diabetes.target"
      ],
      "metadata": {
        "id": "0wFYOHYx2Hfz"
      },
      "execution_count": null,
      "outputs": []
    },
    {
      "cell_type": "code",
      "source": [
        "X_train, y_train, X_test, y_test = split_train_test(X,y,0.8)\n",
        "Stdalizer = NormPadronizacao()\n",
        "Stdalizer.treinar(X_train)"
      ],
      "metadata": {
        "colab": {
          "base_uri": "https://localhost:8080/"
        },
        "id": "K5pGTEiL2UDM",
        "outputId": "8114a805-1b1d-4af1-8aa1-be06e37244fc"
      },
      "execution_count": null,
      "outputs": [
        {
          "output_type": "stream",
          "name": "stdout",
          "text": [
            "{'media_0': [-0.0022879448933773015], 'desvio_padrao_0': [0.047957739683499596], 'media_1': [-0.0003948618652044522], 'desvio_padrao_1': [0.04753843872766521], 'media_2': [-0.0025525109168930906], 'desvio_padrao_2': [0.04665665093064553], 'media_3': [-0.00197433926948678], 'desvio_padrao_3': [0.04772292842036556], 'media_4': [-0.0016438684285373835], 'desvio_padrao_4': [0.047626147090265455], 'media_5': [-0.002055025361571603], 'desvio_padrao_5': [0.04677371083224853], 'media_6': [0.0023189773935705154], 'desvio_padrao_6': [0.04735629619091889], 'media_7': [-0.002710683933372446], 'desvio_padrao_7': [0.04635315068119044], 'media_8': [-0.0021552497350374486], 'desvio_padrao_8': [0.04777834107613305], 'media_9': [-0.0018610185789160365], 'desvio_padrao_9': [0.04808938885155231]}\n"
          ]
        }
      ]
    },
    {
      "cell_type": "code",
      "source": [
        "X_train = Stdalizer.normalizar(X_train)\n",
        "X_test = Stdalizer.normalizar(X_test)"
      ],
      "metadata": {
        "id": "CM1RaV662dZb"
      },
      "execution_count": null,
      "outputs": []
    },
    {
      "cell_type": "code",
      "source": [
        "X_train.shape"
      ],
      "metadata": {
        "colab": {
          "base_uri": "https://localhost:8080/"
        },
        "id": "1HVFaMFz3u6d",
        "outputId": "57ea6a31-c1d2-4072-d500-065a535150d1"
      },
      "execution_count": null,
      "outputs": [
        {
          "output_type": "execute_result",
          "data": {
            "text/plain": [
              "(349, 10)"
            ]
          },
          "metadata": {},
          "execution_count": 294
        }
      ]
    },
    {
      "cell_type": "code",
      "source": [
        "X_train = X_train.reshape(X_train.shape[0], 1, X_train.shape[1] )"
      ],
      "metadata": {
        "id": "W4cfMNtx2kXm"
      },
      "execution_count": null,
      "outputs": []
    },
    {
      "cell_type": "code",
      "source": [],
      "metadata": {
        "id": "-f6DOY-K3s65"
      },
      "execution_count": null,
      "outputs": []
    },
    {
      "cell_type": "code",
      "source": [
        "net = MLP()\n",
        "net.add(LinearLayer(X_train.shape[2], 128))\n",
        "net.add(SigmoidLayer())\n",
        "net.add(LinearLayer(128,1))\n",
        "\n",
        "\n",
        "net.fit(X_train, y_train, epochs=200, learning_rate=0.001)\n",
        "\n",
        "# test\n",
        "out = net.predict(X_test)\n",
        "\n"
      ],
      "metadata": {
        "id": "7Q4NmReG2eKN"
      },
      "execution_count": null,
      "outputs": []
    },
    {
      "cell_type": "code",
      "source": [],
      "metadata": {
        "id": "jwuAXT6R5j4w"
      },
      "execution_count": null,
      "outputs": []
    },
    {
      "cell_type": "code",
      "source": [
        "np.sqrt(mse(y_test, out.reshape(-1))) # RMSE"
      ],
      "metadata": {
        "colab": {
          "base_uri": "https://localhost:8080/"
        },
        "id": "RlMpnBWU2nXm",
        "outputId": "baddaa3f-1ddf-4614-a08b-4a6908b854b5"
      },
      "execution_count": null,
      "outputs": [
        {
          "output_type": "execute_result",
          "data": {
            "text/plain": [
              "61.51521416406337"
            ]
          },
          "metadata": {},
          "execution_count": 249
        }
      ]
    },
    {
      "cell_type": "markdown",
      "source": [
        "## REG LINEAR\n"
      ],
      "metadata": {
        "id": "ASQ_ALcg8Pvk"
      }
    },
    {
      "cell_type": "code",
      "source": [
        "from sklearn.linear_model import LinearRegression\n",
        "import numpy as np"
      ],
      "metadata": {
        "id": "2nfYCFPe4di3"
      },
      "execution_count": null,
      "outputs": []
    },
    {
      "cell_type": "code",
      "source": [
        "model = LinearRegression()\n",
        "model.fit(X_train, y_train)"
      ],
      "metadata": {
        "colab": {
          "base_uri": "https://localhost:8080/",
          "height": 75
        },
        "id": "GLCFhRr94O1f",
        "outputId": "9b0d2943-3243-4ad1-dad0-e7b8c844771f"
      },
      "execution_count": null,
      "outputs": [
        {
          "output_type": "execute_result",
          "data": {
            "text/plain": [
              "LinearRegression()"
            ],
            "text/html": [
              "<style>#sk-container-id-3 {color: black;background-color: white;}#sk-container-id-3 pre{padding: 0;}#sk-container-id-3 div.sk-toggleable {background-color: white;}#sk-container-id-3 label.sk-toggleable__label {cursor: pointer;display: block;width: 100%;margin-bottom: 0;padding: 0.3em;box-sizing: border-box;text-align: center;}#sk-container-id-3 label.sk-toggleable__label-arrow:before {content: \"▸\";float: left;margin-right: 0.25em;color: #696969;}#sk-container-id-3 label.sk-toggleable__label-arrow:hover:before {color: black;}#sk-container-id-3 div.sk-estimator:hover label.sk-toggleable__label-arrow:before {color: black;}#sk-container-id-3 div.sk-toggleable__content {max-height: 0;max-width: 0;overflow: hidden;text-align: left;background-color: #f0f8ff;}#sk-container-id-3 div.sk-toggleable__content pre {margin: 0.2em;color: black;border-radius: 0.25em;background-color: #f0f8ff;}#sk-container-id-3 input.sk-toggleable__control:checked~div.sk-toggleable__content {max-height: 200px;max-width: 100%;overflow: auto;}#sk-container-id-3 input.sk-toggleable__control:checked~label.sk-toggleable__label-arrow:before {content: \"▾\";}#sk-container-id-3 div.sk-estimator input.sk-toggleable__control:checked~label.sk-toggleable__label {background-color: #d4ebff;}#sk-container-id-3 div.sk-label input.sk-toggleable__control:checked~label.sk-toggleable__label {background-color: #d4ebff;}#sk-container-id-3 input.sk-hidden--visually {border: 0;clip: rect(1px 1px 1px 1px);clip: rect(1px, 1px, 1px, 1px);height: 1px;margin: -1px;overflow: hidden;padding: 0;position: absolute;width: 1px;}#sk-container-id-3 div.sk-estimator {font-family: monospace;background-color: #f0f8ff;border: 1px dotted black;border-radius: 0.25em;box-sizing: border-box;margin-bottom: 0.5em;}#sk-container-id-3 div.sk-estimator:hover {background-color: #d4ebff;}#sk-container-id-3 div.sk-parallel-item::after {content: \"\";width: 100%;border-bottom: 1px solid gray;flex-grow: 1;}#sk-container-id-3 div.sk-label:hover label.sk-toggleable__label {background-color: #d4ebff;}#sk-container-id-3 div.sk-serial::before {content: \"\";position: absolute;border-left: 1px solid gray;box-sizing: border-box;top: 0;bottom: 0;left: 50%;z-index: 0;}#sk-container-id-3 div.sk-serial {display: flex;flex-direction: column;align-items: center;background-color: white;padding-right: 0.2em;padding-left: 0.2em;position: relative;}#sk-container-id-3 div.sk-item {position: relative;z-index: 1;}#sk-container-id-3 div.sk-parallel {display: flex;align-items: stretch;justify-content: center;background-color: white;position: relative;}#sk-container-id-3 div.sk-item::before, #sk-container-id-3 div.sk-parallel-item::before {content: \"\";position: absolute;border-left: 1px solid gray;box-sizing: border-box;top: 0;bottom: 0;left: 50%;z-index: -1;}#sk-container-id-3 div.sk-parallel-item {display: flex;flex-direction: column;z-index: 1;position: relative;background-color: white;}#sk-container-id-3 div.sk-parallel-item:first-child::after {align-self: flex-end;width: 50%;}#sk-container-id-3 div.sk-parallel-item:last-child::after {align-self: flex-start;width: 50%;}#sk-container-id-3 div.sk-parallel-item:only-child::after {width: 0;}#sk-container-id-3 div.sk-dashed-wrapped {border: 1px dashed gray;margin: 0 0.4em 0.5em 0.4em;box-sizing: border-box;padding-bottom: 0.4em;background-color: white;}#sk-container-id-3 div.sk-label label {font-family: monospace;font-weight: bold;display: inline-block;line-height: 1.2em;}#sk-container-id-3 div.sk-label-container {text-align: center;}#sk-container-id-3 div.sk-container {/* jupyter's `normalize.less` sets `[hidden] { display: none; }` but bootstrap.min.css set `[hidden] { display: none !important; }` so we also need the `!important` here to be able to override the default hidden behavior on the sphinx rendered scikit-learn.org. See: https://github.com/scikit-learn/scikit-learn/issues/21755 */display: inline-block !important;position: relative;}#sk-container-id-3 div.sk-text-repr-fallback {display: none;}</style><div id=\"sk-container-id-3\" class=\"sk-top-container\"><div class=\"sk-text-repr-fallback\"><pre>LinearRegression()</pre><b>In a Jupyter environment, please rerun this cell to show the HTML representation or trust the notebook. <br />On GitHub, the HTML representation is unable to render, please try loading this page with nbviewer.org.</b></div><div class=\"sk-container\" hidden><div class=\"sk-item\"><div class=\"sk-estimator sk-toggleable\"><input class=\"sk-toggleable__control sk-hidden--visually\" id=\"sk-estimator-id-3\" type=\"checkbox\" checked><label for=\"sk-estimator-id-3\" class=\"sk-toggleable__label sk-toggleable__label-arrow\">LinearRegression</label><div class=\"sk-toggleable__content\"><pre>LinearRegression()</pre></div></div></div></div></div>"
            ]
          },
          "metadata": {},
          "execution_count": 237
        }
      ]
    },
    {
      "cell_type": "code",
      "source": [
        "y_pred = model.predict(X_test)\n",
        "\n",
        "rmse = np.sqrt(mse(y_test, y_pred))\n",
        "\n",
        "# Imprima os resultados\n",
        "print(\"Root Mean Squared Error (RMSE):\", rmse)\n"
      ],
      "metadata": {
        "colab": {
          "base_uri": "https://localhost:8080/"
        },
        "id": "84qB338Z3pzr",
        "outputId": "3f0c554a-ac2f-432b-acd1-4320afb93a74"
      },
      "execution_count": null,
      "outputs": [
        {
          "output_type": "stream",
          "name": "stdout",
          "text": [
            "Root Mean Squared Error (RMSE): 52.88510981017927\n"
          ]
        }
      ]
    },
    {
      "cell_type": "markdown",
      "source": [
        "# TESTE"
      ],
      "metadata": {
        "id": "rvQ1H3zp8NgG"
      }
    },
    {
      "cell_type": "code",
      "source": [
        "net = MLP_newton()\n",
        "net.add(LinearLayer(X_train.shape[2], 64))\n",
        "net.add(SigmoidLayer())\n",
        "net.add(LinearLayer(64,1))\n",
        "\n",
        "net.fit(X_train, y_train, epochs=100, learning_rate=0.01)\n",
        "\n",
        "# test\n",
        "out = net.predict(X_test)"
      ],
      "metadata": {
        "colab": {
          "base_uri": "https://localhost:8080/"
        },
        "id": "7guAurO44tHP",
        "outputId": "cf71d1a7-c740-4883-eed3-9aed253967c4"
      },
      "execution_count": null,
      "outputs": [
        {
          "output_type": "stream",
          "name": "stderr",
          "text": [
            "Epoch 0:   0%|          | 0/100 [00:00<?, ?it/s]<ipython-input-313-bf46e689904f>:12: RuntimeWarning: overflow encountered in exp\n",
            "  return 1/(1+np.exp(-u))\n",
            "Epoch 1:   1%|          | 1/100 [00:00<00:23,  4.25it/s, loss=2.52e+178]<ipython-input-314-e1c7c7d99810>:5: RuntimeWarning: overflow encountered in square\n",
            "  return np.mean((y_true-y_pred)**2);\n",
            "<ipython-input-316-899ecc063a80>:77: RuntimeWarning: overflow encountered in double_scalars\n",
            "  err += mse(y_train[j], output)\n",
            "<ipython-input-315-546907c3eed6>:9: RuntimeWarning: invalid value encountered in double_scalars\n",
            "  while mse(y_true,  t * grad) > mse(y_true,y_pred) - alpha * t * new_grad[0][0]:\n",
            "<ipython-input-313-bf46e689904f>:9: RuntimeWarning: invalid value encountered in multiply\n",
            "  return self.__derivada_sigmoid(self.input) * output_error\n",
            "Epoch 99: 100%|██████████| 100/100 [00:23<00:00,  4.27it/s, loss=nan]\n"
          ]
        }
      ]
    },
    {
      "cell_type": "code",
      "source": [
        "np.sqrt(mse(y_test, out.reshape(-1)))"
      ],
      "metadata": {
        "colab": {
          "base_uri": "https://localhost:8080/"
        },
        "id": "LPZmiQoF8X9k",
        "outputId": "71b95c7a-80da-4c87-a57a-6fefe789f9f2"
      },
      "execution_count": null,
      "outputs": [
        {
          "output_type": "execute_result",
          "data": {
            "text/plain": [
              "nan"
            ]
          },
          "metadata": {},
          "execution_count": 319
        }
      ]
    },
    {
      "cell_type": "code",
      "source": [],
      "metadata": {
        "id": "AsBc603w85Pz"
      },
      "execution_count": null,
      "outputs": []
    }
  ]
}